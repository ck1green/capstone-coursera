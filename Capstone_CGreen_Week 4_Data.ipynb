{
 "cells": [
  {
   "cell_type": "markdown",
   "metadata": {},
   "source": [
    "# Data:\n",
    "\n",
    "A critical component of the Data Science analysis will be to acquire enough data to adequately characterize the stores near each of the Joint Chiropractic clinics. Based on my initial research, there are currently approximately 35 existing Joint locations in the greater Atlanta area. However, performing an analysis on the Atlanta sites may not provide enough data to properly characterize the 424 plus Joint Sites as a whole. \n",
    "The Joint's website will need to be scraped to obtain the address and location description of the existing 425 clinics. After that, a mapping and analysis tool should then be performed, using ArcGIS(http://www.arcgis.com/index.html), to acquire the geocoding data for each clinic.  Data Wrangling will then be performed to ensure the data is in the appropriate format to use Foursquare API to obtain information about Venues in close proximity to each clinic.\n",
    "Data visualization will then be used to depict the current locations nationwide. The Foursquare location service can then be used to determine common venues near each site within a 500 m radius. After that, the resultant nearby data will then be normalized in preparation for K-means analysis.  Since we don’t know the optimal cluster value beforehand, we will apply the Elbow method to ensure an appropriate K is used for the current analysis.\n",
    "Once the nationwide FourSquare analysis is complete, we should have a clearer picture of the number of venues we would want nearby.  In order to assess how the Joint Brand is viewed, we could perform a second Foursquare analysis and determine the average ratings if available.  After that, Zillow or a multiple listing service could then be used to identify 2 potential candidate properties and then assess whether they would be satisfactory locations or not. A summary of the sequence of proposed steps is included as follows:\n",
    "\n",
    "1.\tUse BeautifulSoup to scrape the Joint website and obtain address information for the 424 locations.\n",
    "2.\tUse ArcGIS to generate the corresponding longitude and latitude values from the target locations.\n",
    "3.\tVisualize the current locations on a map and look for potential sites in the Atlanta area\n",
    "4.\tUse Foursquare to obtain Nearby venue data for all current The Joints sites nationwide.\n",
    "5.\tPrep and normalize nearby venue data in preparation for K-means analysis.\n",
    "6.\tUse Elbow method to determine appropriate K-mean cluster value.\n",
    "7.\tRecord any conclusions based on nationwide Foursquare analysis.\n",
    "8.\tDepending on availability of rating data, perform second Foursquare Analysis to assess average rating nationwide.\n",
    "9.\tUse Glassdoor to obtain information regarding current employee satisfaction with employment at the Joint.\n",
    "10.\tUse Multiple listing service to identify 2 potential sites in Atlanta area and analyze the corresponding venue data.\n",
    "11.\tSummarize all analyses and provide recommendations for either moving forward or declining to pursue a Joint Chiropractic franchise.\n",
    "\n",
    "\n"
   ]
  },
  {
   "cell_type": "markdown",
   "metadata": {},
   "source": []
  }
 ],
 "metadata": {
  "kernelspec": {
   "display_name": "Python 3",
   "language": "python",
   "name": "python3"
  },
  "language_info": {
   "codemirror_mode": {
    "name": "ipython",
    "version": 3
   },
   "file_extension": ".py",
   "mimetype": "text/x-python",
   "name": "python",
   "nbconvert_exporter": "python",
   "pygments_lexer": "ipython3",
   "version": "3.7.1"
  }
 },
 "nbformat": 4,
 "nbformat_minor": 2
}

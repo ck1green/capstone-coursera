{
 "cells": [
  {
   "cell_type": "markdown",
   "metadata": {},
   "source": [
    "## Cracking into Entrepreneurship - Evaluating The Joint Chiropractic Franchise \n",
    "#### By: Chris K. Green, Ph.D.\n",
    "\n",
    "\n",
    "### Introduction/Business Problem:\n",
    "\n",
    "Franchising offers aspiring entrepreneurs the opportunity to invest in proven business models with the potential for large returns on your investment. One such franchising opportunity is The Joint Chiropractic, which has been transforming the cost and accessibility of Chiropractic care by situating its locations near retail settings.\n",
    "The Joint Chiropractic franchise has touted exceptional growth due to its small footprint, low overhead and no inventory business model.  The company allows it clients to receive affordable chiropractic care with monthly plans at a cost of $39 per visit.  The franchise also advertises that it leverages Global Information Strategies and customer analytics to evaluate the ideal locations for future sites.\n",
    "One of my close friends is interested in investing in the Joint Franchise. I shared with him that I have been taking several Data Science Classes, and that such Principles could be used to assess whether the Joint Franchise opportunity was as good as advertised.  In addition, it would be an interesting Capstone Project to apply many of the items I learned over the past few months.   As a result, I will employ a Data Science approach to assess some of the key characteristics of existing Joint Chiropractic franchise locations nationwide.  Specifically, I would like to investigate:\n",
    "\n",
    "1.Does a K-means analysis provide insight on what constitutes a \"Good\" Joint Chiropractic location?  \n",
    "2.What tools can be sued to help gauge customer impressions of the Joint Chiropractic as a brand and assess the overall impression of this franchise in the United States?  \n",
    "3.By applying the Data Science approach, can we evaluate 2 local sites in the Atlanta area and determine if either are potentially acceptable locations for opening a local Joint Franchise?\n",
    "\n",
    "\n"
   ]
  },
  {
   "cell_type": "code",
   "execution_count": null,
   "metadata": {},
   "outputs": [],
   "source": []
  }
 ],
 "metadata": {
  "kernelspec": {
   "display_name": "Python 3",
   "language": "python",
   "name": "python3"
  },
  "language_info": {
   "codemirror_mode": {
    "name": "ipython",
    "version": 3
   },
   "file_extension": ".py",
   "mimetype": "text/x-python",
   "name": "python",
   "nbconvert_exporter": "python",
   "pygments_lexer": "ipython3",
   "version": "3.7.1"
  }
 },
 "nbformat": 4,
 "nbformat_minor": 2
}
